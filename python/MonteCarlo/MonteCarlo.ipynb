{
 "cells": [
  {
   "cell_type": "markdown",
   "metadata": {},
   "source": [
    "通常蒙特卡罗方法可以粗略地分成两类：一类是所求解的问题本身具有内在的随机性，借助计算机的运算能力可以直接模拟这种随机的过程。例如在核物理研究中，分析中子在反应堆中的传输过程。中子与原子核作用受到量子力学规律的制约，人们只能知道它们相互作用发生的概率，却无法准确获得中子与原子核作用时的位置以及裂变产生的新中子的行进速率和方向。科学家依据其概率进行随机抽样得到裂变位置、速度和方向，这样模拟大量中子的行为后，经过统计就能获得中子传输的范围，作为反应堆设计的依据。\n",
    "另一种类型是所求解问题可以转化为某种随机分布的特征数，比如随机事件出现的概率，或者随机变量的期望值。通过随机抽样的方法，以随机事件出现的频率估计其概率，或者以抽样的数字特征估算随机变量的数字特征，并将其作为问题的解。这种方法多用于求解复杂的多维积分问题。"
   ]
  },
  {
   "cell_type": "code",
   "execution_count": 6,
   "metadata": {},
   "outputs": [
    {
     "name": "stdout",
     "output_type": "stream",
     "text": [
      "3.1415076\n"
     ]
    }
   ],
   "source": [
    "## Monte Carlo method to calculate pi\n",
    "\n",
    "import random\n",
    "\n",
    "def calpai():\n",
    "    n = 10000000\n",
    "    r = 1.0\n",
    "    a, b = (0.0, 0.0)\n",
    "    x_neg, x_pos = a - r, a + r\n",
    "    y_neg, y_pos = b - r, b + r\n",
    "\n",
    "    count = 0\n",
    "    for i in range(0, n):\n",
    "        x = random.uniform(x_neg, x_pos)\n",
    "        y = random.uniform(y_neg, y_pos)\n",
    "        if x*x + y*y <= 1.0:\n",
    "            count += 1\n",
    "\n",
    "    print(count / float(n) * 4)\n",
    "    \n",
    "if __name__ == '__main__':\n",
    "    calpai()\n"
   ]
  },
  {
   "cell_type": "code",
   "execution_count": 17,
   "metadata": {},
   "outputs": [
    {
     "name": "stdout",
     "output_type": "stream",
     "text": [
      "0.332706\n"
     ]
    }
   ],
   "source": [
    "## Monte Carlo method to calculate integral\n",
    "\n",
    "def integral():\n",
    "    n = 1000000\n",
    "    x_min, x_max = 0.0, 1.0\n",
    "    y_min, y_max = 0.0, 1.0\n",
    "\n",
    "    count = 0\n",
    "    for i in range(0, n):\n",
    "        x = random.uniform(x_min, x_max)\n",
    "        y = random.uniform(y_min, y_max)\n",
    "        # x*x > y，表示该点位于曲线的下面。所求的积分值即为曲线下方的面积与正方形面积的比。\n",
    "        if x*x > y:\n",
    "            count += 1\n",
    "\n",
    "    integral_value = count / float(n)\n",
    "    print(integral_value)\n",
    "\n",
    "if __name__ == '__main__':\n",
    "    integral()"
   ]
  }
 ],
 "metadata": {
  "kernelspec": {
   "display_name": "base",
   "language": "python",
   "name": "python3"
  },
  "language_info": {
   "codemirror_mode": {
    "name": "ipython",
    "version": 3
   },
   "file_extension": ".py",
   "mimetype": "text/x-python",
   "name": "python",
   "nbconvert_exporter": "python",
   "pygments_lexer": "ipython3",
   "version": "3.8.18"
  }
 },
 "nbformat": 4,
 "nbformat_minor": 2
}
