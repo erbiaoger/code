{
 "cells": [
  {
   "cell_type": "markdown",
   "id": "609e4137-9e13-42a5-9819-6fdbe659f128",
   "metadata": {},
   "source": [
    "# Jacobi"
   ]
  },
  {
   "cell_type": "markdown",
   "id": "686fa429-a4de-41fc-9e0d-c3e669ffb64b",
   "metadata": {},
   "source": [
    "## 1. $ X = BX + F $"
   ]
  },
  {
   "cell_type": "code",
   "execution_count": 1,
   "id": "ab3f6bb2-3897-4ce2-9d28-c40f6eee2a32",
   "metadata": {},
   "outputs": [],
   "source": [
    "import numpy as np \n",
    "import matplotlib.pyplot as plt"
   ]
  },
  {
   "cell_type": "code",
   "execution_count": 2,
   "id": "d19d03c2-90e4-4a10-876b-d29b9a6b2cab",
   "metadata": {},
   "outputs": [],
   "source": [
    "B1 = np.array([[0, -0.06, 0.02],\n",
    "             [-0.03, 0, 0.05],\n",
    "             [-0.01, 0.02, 0]])\n",
    "\n",
    "F1 = np.array([[2, 3, 5]]).T"
   ]
  },
  {
   "cell_type": "code",
   "execution_count": 48,
   "id": "b6017ac0-7002-4dbb-9b26-8556f6d7e5e7",
   "metadata": {},
   "outputs": [],
   "source": [
    "def Jacobi_X(B, F, error=0.0001, X0=None, plot=False):\n",
    "    if (X0 == None):\n",
    "        X = np.ones_like(F)\n",
    "    else:\n",
    "        X = X0\n",
    "\n",
    "    i = 0\n",
    "    X_new = np.dot(B, X) + F\n",
    "    Diff = 1\n",
    "    lis = []\n",
    "    while(Diff > error):\n",
    "        Diff = np.linalg.norm(X_new - X, ord=np.inf)\n",
    "        X = X_new\n",
    "        lis.append(X)\n",
    "        X_new = np.dot(B, X) + F\n",
    "        i = i + 1\n",
    "        #print(\"Loop {}\".format(i))\n",
    "        #print(X)\n",
    "        #print(\"\\n\")\n",
    "        \n",
    "    \n",
    "    print(\"Last Loop {}\".format(i+1))\n",
    "    print(\"\\n\")\n",
    "    print(X)\n",
    "    print(\"\\n\")\n",
    "    \n",
    "    if (plot == False):\n",
    "        return X\n",
    "    else:\n",
    "        return X, lis"
   ]
  },
  {
   "cell_type": "markdown",
   "id": "00a3d854-5085-45b2-873b-d0d79b041798",
   "metadata": {},
   "source": [
    "## 2. $AX = b$"
   ]
  },
  {
   "cell_type": "code",
   "execution_count": 8,
   "id": "498b0b58-5938-4b3c-9baf-1023bd2a11f3",
   "metadata": {},
   "outputs": [],
   "source": [
    "A1 = np.array([[4, 0.24, -0.08],\n",
    "             [0.09, 3, -0.15],\n",
    "             [0.04, -0.08, 4]])\n",
    "b1 = np.array([[8, 9, 20]]).T"
   ]
  },
  {
   "cell_type": "code",
   "execution_count": 9,
   "id": "52936bb1-d475-4f0f-b84a-ff69966d048d",
   "metadata": {},
   "outputs": [],
   "source": [
    "def trans_A_to_B(A, b):\n",
    "    k = A.shape[0]\n",
    "    for i in range(k):\n",
    "        b[i] = b[i]/A[i, i]\n",
    "        A[i] = A[i]/A[i, i]    \n",
    "\n",
    "    B = np.eye(A.shape[0])\n",
    "    B = B - A\n",
    "    F = b\n",
    "    \n",
    "    return B, F"
   ]
  },
  {
   "cell_type": "code",
   "execution_count": 10,
   "id": "5de92851-5207-476d-a661-4e0ddd75821f",
   "metadata": {},
   "outputs": [
    {
     "name": "stdout",
     "output_type": "stream",
     "text": [
      "Last Loop 6\n",
      "\n",
      "\n",
      "[[1.90919876]\n",
      " [3.19496307]\n",
      " [5.04480681]]\n",
      "\n",
      "\n"
     ]
    },
    {
     "data": {
      "text/plain": [
       "array([[1.90919876],\n",
       "       [3.19496307],\n",
       "       [5.04480681]])"
      ]
     },
     "execution_count": 10,
     "metadata": {},
     "output_type": "execute_result"
    }
   ],
   "source": [
    "B1, F1 = trans_A_to_B(A1, b1)\n",
    "Jacobi_X(B1, F1)"
   ]
  },
  {
   "cell_type": "markdown",
   "id": "89939c56-8aea-4fe4-92dc-b688e91f81e4",
   "metadata": {},
   "source": [
    "## 验证"
   ]
  },
  {
   "cell_type": "code",
   "execution_count": 11,
   "id": "d61e2ab7-2591-4105-ad1c-ba4c83a0fe76",
   "metadata": {},
   "outputs": [],
   "source": [
    "A1 = np.array([[1., 0.004, 0.01, 0.05],\n",
    "             [0.01, 2., 0.008, 0.009],\n",
    "             [0.02, 0.03, 5., 0.04],\n",
    "             [0.04, 0.03, 0.06, 9.]])\n",
    "b1 = np.array([[10., 2., 7., 9.]]).T"
   ]
  },
  {
   "cell_type": "code",
   "execution_count": 49,
   "id": "b3933f59-812a-43f4-a263-17b3f428418e",
   "metadata": {},
   "outputs": [
    {
     "name": "stdout",
     "output_type": "stream",
     "text": [
      "Last Loop 5\n",
      "\n",
      "\n",
      "[[9.93557926]\n",
      " [0.94068681]\n",
      " [1.3470634 ]\n",
      " [0.94372554]]\n",
      "\n",
      "\n"
     ]
    }
   ],
   "source": [
    "B1, F1 = trans_A_to_B(A1, b1)\n",
    "X, X_plot = Jacobi_X(B1, F1, plot=True)"
   ]
  },
  {
   "cell_type": "code",
   "execution_count": 55,
   "id": "29ef5154-af10-4e2a-a4c7-124c4760ca9e",
   "metadata": {},
   "outputs": [
    {
     "data": {
      "text/plain": [
       "[<matplotlib.lines.Line2D at 0x11cfdcb20>]"
      ]
     },
     "execution_count": 55,
     "metadata": {},
     "output_type": "execute_result"
    },
    {
     "data": {
      "image/png": "[encoded data removed]",
      "text/plain": [
       "<Figure size 640x480 with 1 Axes>"
      ]
     },
     "metadata": {},
     "output_type": "display_data"
    }
   ],
   "source": [
    "plt.plot(X_plot)"
   ]
  },
  {
   "cell_type": "code",
   "execution_count": 53,
   "id": "a1d89349-b3ad-4778-bddf-60ae28acabfb",
   "metadata": {},
   "outputs": [
    {
     "data": {
      "text/plain": [
       "array([[9.93557926],\n",
       "       [0.94068681],\n",
       "       [1.3470634 ],\n",
       "       [0.94372554]])"
      ]
     },
     "execution_count": 53,
     "metadata": {},
     "output_type": "execute_result"
    }
   ],
   "source": [
    "X"
   ]
  },
  {
   "cell_type": "code",
   "execution_count": 56,
   "id": "a2b64dda-3af1-482f-8e56-e5b78295a825",
   "metadata": {},
   "outputs": [
    {
     "data": {
      "text/plain": [
       "(4, 1)"
      ]
     },
     "execution_count": 56,
     "metadata": {},
     "output_type": "execute_result"
    }
   ],
   "source": [
    "X_plot.shape"
   ]
  },
  {
   "cell_type": "code",
   "execution_count": 57,
   "id": "c35c0522-72df-4f13-b476-acc69d28952a",
   "metadata": {},
   "outputs": [],
   "source": [
    "a = X"
   ]
  },
  {
   "cell_type": "code",
   "execution_count": 58,
   "id": "08a88dd9-a7f3-4b91-8c37-ddc40860628f",
   "metadata": {},
   "outputs": [
    {
     "data": {
      "text/plain": [
       "array([[9.93557926],\n",
       "       [0.94068681],\n",
       "       [1.3470634 ],\n",
       "       [0.94372554]])"
      ]
     },
     "execution_count": 58,
     "metadata": {},
     "output_type": "execute_result"
    }
   ],
   "source": [
    "a"
   ]
  },
  {
   "cell_type": "code",
   "execution_count": 60,
   "id": "eeb1b004-8777-43fd-a8c4-569409452860",
   "metadata": {},
   "outputs": [],
   "source": [
    "lis = []"
   ]
  },
  {
   "cell_type": "code",
   "execution_count": 61,
   "id": "0a3b26ad-bfb9-4d19-8906-58e33492c04e",
   "metadata": {},
   "outputs": [],
   "source": [
    "lis.append(a)"
   ]
  },
  {
   "cell_type": "code",
   "execution_count": 63,
   "id": "e385c08a-56f8-40d7-8e78-fabc38d3a93a",
   "metadata": {},
   "outputs": [],
   "source": [
    "lis.append(X)"
   ]
  },
  {
   "cell_type": "code",
   "execution_count": 65,
   "id": "faa94325-e161-48c3-86c0-149711343cb2",
   "metadata": {},
   "outputs": [
    {
     "data": {
      "text/plain": [
       "[array([[9.93557926],\n",
       "        [0.94068681],\n",
       "        [1.3470634 ],\n",
       "        [0.94372554]]),\n",
       " array([[9.93557926],\n",
       "        [0.94068681],\n",
       "        [1.3470634 ],\n",
       "        [0.94372554]])]"
      ]
     },
     "execution_count": 65,
     "metadata": {},
     "output_type": "execute_result"
    }
   ],
   "source": [
    "lis"
   ]
  },
  {
   "cell_type": "code",
   "execution_count": null,
   "id": "9a467f57-654a-4d99-bf7a-07816835b782",
   "metadata": {},
   "outputs": [],
   "source": []
  }
 ],
 "metadata": {
  "kernelspec": {
   "display_name": "Python 3 (ipykernel)",
   "language": "python",
   "name": "python3"
  },
  "language_info": {
   "codemirror_mode": {
    "name": "ipython",
    "version": 3
   },
   "file_extension": ".py",
   "mimetype": "text/x-python",
   "name": "python",
   "nbconvert_exporter": "python",
   "pygments_lexer": "ipython3",
   "version": "3.9.14"
  }
 },
 "nbformat": 4,
 "nbformat_minor": 5
}
