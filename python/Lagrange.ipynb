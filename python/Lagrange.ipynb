{
 "cells": [
  {
   "cell_type": "markdown",
   "id": "5e0fd1e0-3f44-4ca5-af13-08478652b718",
   "metadata": {},
   "source": [
    "# Lagrange"
   ]
  },
  {
   "cell_type": "code",
   "execution_count": 38,
   "id": "503c0959-3886-43a0-b924-d42753f9d731",
   "metadata": {},
   "outputs": [],
   "source": [
    "import numpy as np\n",
    "import matplotlib.pyplot as plt"
   ]
  },
  {
   "cell_type": "code",
   "execution_count": 39,
   "id": "6fe6e72c-daec-4471-bf67-33e258597aa9",
   "metadata": {},
   "outputs": [],
   "source": [
    "X = np.array([0., 1., 2.])\n",
    "Y = np.array([1., 6., 15.])"
   ]
  },
  {
   "cell_type": "code",
   "execution_count": 40,
   "id": "4fc5ef8b-550c-42da-b760-37e86e04f1fe",
   "metadata": {},
   "outputs": [],
   "source": [
    "def Largrange(X, Y, x):\n",
    "    yy = 0\n",
    "    for i in range(X.shape[0]):\n",
    "        y = Y[i]\n",
    "        for j in range(X.shape[0]):\n",
    "            if (j != i):\n",
    "                y = y * (x - X[j]) / (X[i] - X[j])\n",
    "        yy = yy + y\n",
    "\n",
    "    return yy\n"
   ]
  },
  {
   "cell_type": "code",
   "execution_count": 44,
   "id": "6bc32408-84cc-4742-ab04-95c7ff8b7dac",
   "metadata": {},
   "outputs": [],
   "source": [
    "y = Largrange(X, Y, 1.)"
   ]
  },
  {
   "cell_type": "code",
   "execution_count": 45,
   "id": "95bc2ae1-992a-4142-8546-d3038409a8e0",
   "metadata": {},
   "outputs": [
    {
     "data": {
      "text/plain": [
       "6.0"
      ]
     },
     "execution_count": 45,
     "metadata": {},
     "output_type": "execute_result"
    }
   ],
   "source": [
    "y"
   ]
  },
  {
   "cell_type": "code",
   "execution_count": null,
   "id": "1233a869-d9a0-46fa-ab06-5c251673229d",
   "metadata": {},
   "outputs": [],
   "source": []
  }
 ],
 "metadata": {
  "kernelspec": {
   "display_name": "Python 3 (ipykernel)",
   "language": "python",
   "name": "python3"
  },
  "language_info": {
   "codemirror_mode": {
    "name": "ipython",
    "version": 3
   },
   "file_extension": ".py",
   "mimetype": "text/x-python",
   "name": "python",
   "nbconvert_exporter": "python",
   "pygments_lexer": "ipython3",
   "version": "3.9.14"
  }
 },
 "nbformat": 4,
 "nbformat_minor": 5
}
