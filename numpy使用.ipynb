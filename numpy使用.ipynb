{
  "nbformat": 4,
  "nbformat_minor": 0,
  "metadata": {
    "colab": {
      "provenance": [],
      "collapsed_sections": [],
      "authorship_tag": "ABX9TyPIevx95P48sX5ELjbnLcaC",
      "include_colab_link": true
    },
    "kernelspec": {
      "name": "python3",
      "display_name": "Python 3"
    },
    "language_info": {
      "name": "python"
    }
  },
  "cells": [
    {
      "cell_type": "markdown",
      "metadata": {
        "id": "view-in-github",
        "colab_type": "text"
      },
      "source": [
        "<a href=\"https://colab.research.google.com/github/erbiaoger/code/blob/main/numpy%E4%BD%BF%E7%94%A8.ipynb\" target=\"_parent\"><img src=\"https://colab.research.google.com/assets/colab-badge.svg\" alt=\"Open In Colab\"/></a>"
      ]
    },
    {
      "cell_type": "markdown",
      "source": [
        "## numpy使用\n"
      ],
      "metadata": {
        "id": "CAILp2mVA-cd"
      }
    },
    {
      "cell_type": "markdown",
      "source": [
        "### numpy random 随机数"
      ],
      "metadata": {
        "id": "yxkgSmlrSPvQ"
      }
    },
    {
      "cell_type": "code",
      "source": [
        "import numpy as np\n",
        "\n",
        "a = np.random.random()      # 生成0～1之间的随机数\n",
        "print(a)\n",
        "b = np.random.uniform()     # 生成均匀分布的随机数\n",
        "print(b)\n",
        "c = np.random.randn(3, 4)       # 标准正态的\n",
        "print(c)\n",
        "d = np.random.randint(4, 10)# 随机的整数\n",
        "print(d)\n",
        "e = np.random.normal()\n",
        "print(e)\n",
        "f = np.random.shuffle(c)\n",
        "print(f)\n",
        "g = np.random.seed()\n",
        "print(g)\n",
        "h = np.random.random_sample()\n",
        "print(h)"
      ],
      "metadata": {
        "colab": {
          "base_uri": "https://localhost:8080/"
        },
        "id": "9II1DunQBCzQ",
        "outputId": "7a0d9a49-4ea0-4be7-bbd9-da80c96edfbf"
      },
      "execution_count": null,
      "outputs": [
        {
          "output_type": "stream",
          "name": "stdout",
          "text": [
            "0.6830469376607394\n",
            "0.05923921251331332\n",
            "[[-0.36531038 -0.52209184 -2.61642629 -0.6358267 ]\n",
            " [-0.05141207  0.05279701 -1.71352381 -0.0802811 ]\n",
            " [-0.40119287 -0.94113812 -1.02720711  1.36507345]]\n",
            "8\n",
            "0.28939528193375014\n",
            "None\n",
            "None\n",
            "0.26626914835281434\n"
          ]
        }
      ]
    },
    {
      "cell_type": "markdown",
      "source": [
        "### 创建特定形状的多维数组"
      ],
      "metadata": {
        "id": "UHaYXBU_SW_z"
      }
    },
    {
      "cell_type": "code",
      "source": [
        "print(np.zeros((3, 4)))\n",
        "print(np.ones((3, 4)))\n",
        "print(np.empty((3, 4)))\n",
        "a = np.ones((2, 5))\n",
        "print(np.zeros_like(a))\n",
        "print(np.ones_like(a))\n",
        "print(np.empty_like(a))\n",
        "print(np.eye(5))            # 用于创建一个5x5的矩阵，对角线为1，其余为0\n",
        "print('\\n')\n",
        "print(np.full((3, 5), 666))   # 用于创建一个3x5的元素全为666的数组，"
      ],
      "metadata": {
        "colab": {
          "base_uri": "https://localhost:8080/"
        },
        "id": "2TfC6biNOTJ_",
        "outputId": "b481bf1f-f865-4b3e-c107-007506b11697"
      },
      "execution_count": null,
      "outputs": [
        {
          "output_type": "stream",
          "name": "stdout",
          "text": [
            "[[0. 0. 0. 0.]\n",
            " [0. 0. 0. 0.]\n",
            " [0. 0. 0. 0.]]\n",
            "[[1. 1. 1. 1.]\n",
            " [1. 1. 1. 1.]\n",
            " [1. 1. 1. 1.]]\n",
            "[[1. 1. 1. 1.]\n",
            " [1. 1. 1. 1.]\n",
            " [1. 1. 1. 1.]]\n",
            "[[0. 0. 0. 0. 0.]\n",
            " [0. 0. 0. 0. 0.]]\n",
            "[[1. 1. 1. 1. 1.]\n",
            " [1. 1. 1. 1. 1.]]\n",
            "[[1. 1. 1. 1. 1.]\n",
            " [1. 1. 1. 1. 1.]]\n",
            "[[1. 0. 0. 0. 0.]\n",
            " [0. 1. 0. 0. 0.]\n",
            " [0. 0. 1. 0. 0.]\n",
            " [0. 0. 0. 1. 0.]\n",
            " [0. 0. 0. 0. 1.]]\n",
            "\n",
            "\n",
            "[[666 666 666 666 666]\n",
            " [666 666 666 666 666]\n",
            " [666 666 666 666 666]]\n"
          ]
        }
      ]
    },
    {
      "cell_type": "markdown",
      "source": [
        "### numpy 生成有序数组"
      ],
      "metadata": {
        "id": "62WiqaZdh3_x"
      }
    },
    {
      "cell_type": "code",
      "source": [
        "print(np.arange(10))\n",
        "print(np.arange(2, 8))\n",
        "print(np.arange(2, 10, 2))\n",
        "print(np.arange(2, 10, 2, dtype=np.float32))\n",
        "\n",
        "# np.linspace(start, stop,  num=50, endpoint=True, retstep=False, dtype=None)\n",
        "# linspace可以根据输入的指定数据范围以及等份数量，自动生成一个线性等分向量， 其中endpoint(包含终点)默认为True，等分数量num默认为50。如果将retstep设置为 True，则会返回一个带步长的ndarray。\n",
        "\n",
        "print(np.linspace(0, 1, 11))    # 包含 end 的数\n",
        "\n",
        "print(np.logspace(0, 1, 11))"
      ],
      "metadata": {
        "colab": {
          "base_uri": "https://localhost:8080/"
        },
        "id": "D5hWxtHZSqj6",
        "outputId": "0eccc1ba-d03d-4090-eb62-af57671df7f1"
      },
      "execution_count": null,
      "outputs": [
        {
          "output_type": "stream",
          "name": "stdout",
          "text": [
            "[0 1 2 3 4 5 6 7 8 9]\n",
            "[2 3 4 5 6 7]\n",
            "[2 4 6 8]\n",
            "[2. 4. 6. 8.]\n",
            "[0.  0.1 0.2 0.3 0.4 0.5 0.6 0.7 0.8 0.9 1. ]\n",
            "[ 1.          1.25892541  1.58489319  1.99526231  2.51188643  3.16227766\n",
            "  3.98107171  5.01187234  6.30957344  7.94328235 10.        ]\n"
          ]
        }
      ]
    },
    {
      "cell_type": "markdown",
      "source": [
        "### 获取数据\n",
        "![](https://raw.githubusercontent.com/erbiaoger/PicGo/main/img202209102117349.png)"
      ],
      "metadata": {
        "id": "VjRIjJQVjLKq"
      }
    },
    {
      "cell_type": "code",
      "source": [
        "nd12 = np.random.rand(4, 4)\n",
        "print(nd12)\n",
        "print(nd12[0:2, :])\n",
        "print(nd12[:, 2])\n",
        "print(nd12[3:, 2:])\n",
        "print(nd12[2::2, ::2])\n",
        "print(nd12[::2, ::2]) \n",
        "\n",
        "a = np.arange(1, 25, dtype=float)\n",
        "c1 = np.random.choice(a, size=(3, 4))"
      ],
      "metadata": {
        "colab": {
          "base_uri": "https://localhost:8080/"
        },
        "id": "Wy28yA39gDAn",
        "outputId": "5c00e8a0-bb18-41ca-e32b-7fa534277da8"
      },
      "execution_count": null,
      "outputs": [
        {
          "output_type": "stream",
          "name": "stdout",
          "text": [
            "[[0.28183498 0.90231699 0.03055966 0.42221938]\n",
            " [0.73550602 0.34058612 0.78861452 0.48492191]\n",
            " [0.04873046 0.53677254 0.83629072 0.56583474]\n",
            " [0.87219076 0.95832725 0.53930989 0.37898881]]\n",
            "[[0.28183498 0.90231699 0.03055966 0.42221938]\n",
            " [0.73550602 0.34058612 0.78861452 0.48492191]]\n",
            "[0.03055966 0.78861452 0.83629072 0.53930989]\n",
            "[[0.53930989 0.37898881]]\n",
            "[[0.04873046 0.83629072]]\n",
            "[[0.28183498 0.03055966]\n",
            " [0.04873046 0.83629072]]\n"
          ]
        }
      ]
    },
    {
      "cell_type": "markdown",
      "source": [
        "### numpy 算术运算"
      ],
      "metadata": {
        "id": "BC0UlBq0qN0i"
      }
    },
    {
      "cell_type": "code",
      "source": [
        "# numpy.multiply(x1, x2, /, out=None, *, where=True, casting=)\n",
        "A = np.array([[1, 2], [-1, 4]])\n",
        "B = np.array([[2, 0], [3, 4]])\n",
        "\n",
        "print(np.multiply(A, B))\n",
        "print(A * B)\n",
        "print(np.dot(A, B))"
      ],
      "metadata": {
        "colab": {
          "base_uri": "https://localhost:8080/"
        },
        "id": "if_TnKSjoGHf",
        "outputId": "f77671a6-ab3c-47bd-f231-dcec0d10670a"
      },
      "execution_count": null,
      "outputs": [
        {
          "output_type": "stream",
          "name": "stdout",
          "text": [
            "[[ 2  0]\n",
            " [-3 16]]\n",
            "[[ 2  0]\n",
            " [-3 16]]\n",
            "[[ 8  8]\n",
            " [10 16]]\n"
          ]
        }
      ]
    },
    {
      "cell_type": "markdown",
      "source": [
        "### 改变数组形状\n",
        "![](https://raw.githubusercontent.com/erbiaoger/PicGo/main/img202209102159041.png)"
      ],
      "metadata": {
        "id": "nlHb2GTVsvx8"
      }
    },
    {
      "cell_type": "code",
      "source": [
        "# reshape 不会修改向量本身\n",
        "arr = np.arange(10)\n",
        "print(arr)\n",
        "print(arr.reshape(2, 5))\n",
        "print(arr.reshape(5, -1))\n",
        "print(arr.reshape(-1, 5))\n",
        "\n",
        "# resize 会修改向量本身\n",
        "arr = np.arange(10)\n",
        "arr.resize(2, 5)\n",
        "print(arr)\n",
        "\n",
        "# .T 向量转置\n",
        "arr = np.arange(12).reshape(3, 4)\n",
        "print(arr)\n",
        "print(arr.T)\n",
        "\n",
        "# ravel 向量展平\n",
        "arr = np.arange(6).reshape(2, -1)\n",
        "print(arr)\n",
        "print(\"按列优先，展平\")\n",
        "print(arr.ravel('F'))\n",
        "print(\"按行优先，展平\")\n",
        "print(arr.ravel())\n",
        "\n",
        "# flatten 矩阵转换为向量\n",
        "a = np.floor(10*np.random.random((3, 4)))\n",
        "print(a)\n",
        "print(a.flatten())\n",
        "\n",
        "# transpose 对高维矩阵进行轴对换，这个在深度学习中经常使用，比如把图片中表示颜色顺序的 RGB改为GBR\n",
        "arr = np.arange(24).reshape(2, 3, 4)\n",
        "print(arr.shape)\n",
        "print(arr.transpose(1, 2, 0).shape) "
      ],
      "metadata": {
        "colab": {
          "base_uri": "https://localhost:8080/"
        },
        "id": "SJnNbgQxqwll",
        "outputId": "33feea62-5d3a-4573-db5a-c5a62cc0bed4"
      },
      "execution_count": null,
      "outputs": [
        {
          "output_type": "stream",
          "name": "stdout",
          "text": [
            "[0 1 2 3 4 5 6 7 8 9]\n",
            "[[0 1 2 3 4]\n",
            " [5 6 7 8 9]]\n",
            "[[0 1]\n",
            " [2 3]\n",
            " [4 5]\n",
            " [6 7]\n",
            " [8 9]]\n",
            "[[0 1 2 3 4]\n",
            " [5 6 7 8 9]]\n",
            "[[0 1 2 3 4]\n",
            " [5 6 7 8 9]]\n",
            "[[ 0  1  2  3]\n",
            " [ 4  5  6  7]\n",
            " [ 8  9 10 11]]\n",
            "[[ 0  4  8]\n",
            " [ 1  5  9]\n",
            " [ 2  6 10]\n",
            " [ 3  7 11]]\n",
            "[[0 1 2]\n",
            " [3 4 5]]\n",
            "按列优先，展平\n",
            "[0 3 1 4 2 5]\n",
            "按行优先，展平\n",
            "[0 1 2 3 4 5]\n",
            "[[5. 3. 9. 8.]\n",
            " [4. 5. 2. 8.]\n",
            " [1. 2. 1. 0.]]\n",
            "[5. 3. 9. 8. 4. 5. 2. 8. 1. 2. 1. 0.]\n",
            "(2, 3, 4)\n",
            "(3, 4, 2)\n"
          ]
        }
      ]
    },
    {
      "cell_type": "markdown",
      "source": [
        "### 合并数组\n",
        "![](https://raw.githubusercontent.com/erbiaoger/PicGo/main/img202209110939897.png)"
      ],
      "metadata": {
        "id": "k1u94wlpM6hL"
      }
    },
    {
      "cell_type": "code",
      "source": [
        "# append\n",
        "## 合并一维数组\n",
        "a = np.array([1, 2, 3])\n",
        "b = np.array([4, 5, 6])\n",
        "c = np.append(a, b)\n",
        "print(c)\n",
        "## 合并多维数组\n",
        "a = np.arange(4).reshape(2, 2)\n",
        "b = np.arange(4).reshape(2, 2)\n",
        "c = np.append(a, b, axis=0) # 按行合并\n",
        "d = np.append(a, b, axis=1) # 按列合并\n",
        "print(c, c.shape)\n",
        "print(d, d.shape)\n",
        "\n",
        "# concatenate 沿指定轴连接数组或矩阵\n",
        "a = np.array([[1, 2], [3, 4]])\n",
        "b = np.array([[5, 6]])\n",
        "\n",
        "c = np.concatenate((a, b), axis=0)\n",
        "d = np.concatenate((a, b.T), axis=1)\n",
        "print(c, '\\n', d)\n",
        "\n",
        "# stack 沿指定轴堆叠数组或矩阵\n",
        "a = np.array([[1, 2], [3, 4]])\n",
        "b = np.array([[5, 6], [7, 8]])\n",
        "print(np.stack((a, b), axis=0))"
      ],
      "metadata": {
        "id": "dSk2pGOctHzd",
        "colab": {
          "base_uri": "https://localhost:8080/"
        },
        "outputId": "0c87f398-4548-407e-cabb-32c98ec85263"
      },
      "execution_count": null,
      "outputs": [
        {
          "output_type": "stream",
          "name": "stdout",
          "text": [
            "[1 2 3 4 5 6]\n",
            "[[0 1]\n",
            " [2 3]\n",
            " [0 1]\n",
            " [2 3]] (4, 2)\n",
            "[[0 1 0 1]\n",
            " [2 3 2 3]] (2, 4)\n",
            "[[1 2]\n",
            " [3 4]\n",
            " [5 6]] \n",
            " [[1 2 5]\n",
            " [3 4 6]]\n",
            "[[[1 2]\n",
            "  [3 4]]\n",
            "\n",
            " [[5 6]\n",
            "  [7 8]]]\n"
          ]
        }
      ]
    },
    {
      "cell_type": "markdown",
      "source": [
        "![](https://raw.githubusercontent.com/erbiaoger/PicGo/main/img202209111025016.png)"
      ],
      "metadata": {
        "id": "t7OHiycmXZfL"
      }
    },
    {
      "cell_type": "code",
      "source": [],
      "metadata": {
        "id": "bkPXc_AANcVL"
      },
      "execution_count": null,
      "outputs": []
    }
  ]
}