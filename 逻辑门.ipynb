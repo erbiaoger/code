{
  "nbformat": 4,
  "nbformat_minor": 0,
  "metadata": {
    "colab": {
      "provenance": [],
      "collapsed_sections": [],
      "authorship_tag": "ABX9TyMLVoQoUOTMOGDFZH7L8HJf",
      "include_colab_link": true
    },
    "kernelspec": {
      "name": "python3",
      "display_name": "Python 3"
    },
    "language_info": {
      "name": "python"
    }
  },
  "cells": [
    {
      "cell_type": "markdown",
      "metadata": {
        "id": "view-in-github",
        "colab_type": "text"
      },
      "source": [
        "<a href=\"https://colab.research.google.com/github/erbiaoger/code/blob/main/%E9%80%BB%E8%BE%91%E9%97%A8.ipynb\" target=\"_parent\"><img src=\"https://colab.research.google.com/assets/colab-badge.svg\" alt=\"Open In Colab\"/></a>"
      ]
    },
    {
      "cell_type": "markdown",
      "source": [
        "## 电路逻辑门"
      ],
      "metadata": {
        "id": "AbCwnho4lGkG"
      }
    },
    {
      "cell_type": "code",
      "source": [
        "import numpy as np"
      ],
      "metadata": {
        "id": "xJ3fUmvplugb"
      },
      "execution_count": null,
      "outputs": []
    },
    {
      "cell_type": "code",
      "execution_count": null,
      "metadata": {
        "id": "Va68nU2RlE41"
      },
      "outputs": [],
      "source": [
        "def AND(x1, x2):\n",
        "    \"\"\"与门\"\"\"\n",
        "    w = np.array([0.5, 0.5])\n",
        "    x = np.array([x1, x2])\n",
        "    b = -0.7\n",
        "    tmp = np.sum(w*x) + b\n",
        "    if tmp >= 0:\n",
        "        return 1\n",
        "    else:\n",
        "        return 0"
      ]
    },
    {
      "cell_type": "code",
      "source": [
        "def OR(x1, x2):\n",
        "    \"\"\"或门\"\"\"\n",
        "    w = np.array([0.5, 0.5])\n",
        "    x = np.array([x1, x2])\n",
        "    b = -0.4\n",
        "    tmp = np.sum(w*x) + b\n",
        "    if tmp >= 0:\n",
        "        return 1\n",
        "    else:\n",
        "        return 0"
      ],
      "metadata": {
        "id": "KtPSAGPtlOX7"
      },
      "execution_count": null,
      "outputs": []
    },
    {
      "cell_type": "code",
      "source": [
        "def NAND(x1, x2):\n",
        "    \"\"\"与非门\"\"\"\n",
        "    w = np.array([-0.5, -0.5])\n",
        "    x = np.array([x1, x2])\n",
        "    b = 0.7\n",
        "    tmp = np.sum(w*x) + b\n",
        "    if tmp >= 0:\n",
        "        return 1\n",
        "    else:\n",
        "        return 0"
      ],
      "metadata": {
        "id": "1kZXOKUllO_X"
      },
      "execution_count": null,
      "outputs": []
    },
    {
      "cell_type": "code",
      "source": [
        "def XOR(x1, x2):\n",
        "    \"\"\"异或门\"\"\"\n",
        "    s1 = NAND(x1, x2)\n",
        "    s2 = OR(x1, x2)\n",
        "    return AND(s1, s2)"
      ],
      "metadata": {
        "id": "6d4lyrovlPRj"
      },
      "execution_count": null,
      "outputs": []
    },
    {
      "cell_type": "code",
      "source": [
        "print(XOR(0, 0))\n",
        "print(XOR(0, 1))\n",
        "print(XOR(1, 0))\n",
        "print(XOR(1, 1))"
      ],
      "metadata": {
        "id": "1MBnoPvwlPhK"
      },
      "execution_count": null,
      "outputs": []
    },
    {
      "cell_type": "code",
      "source": [],
      "metadata": {
        "id": "bh-TXhGklP08"
      },
      "execution_count": null,
      "outputs": []
    }
  ]
}