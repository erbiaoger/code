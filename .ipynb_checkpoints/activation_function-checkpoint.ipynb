{
 "cells": [
  {
   "cell_type": "code",
   "execution_count": 17,
   "id": "86f9c04c-e2bf-49bf-a228-13119d025396",
   "metadata": {},
   "outputs": [],
   "source": [
    "import os\n",
    "\n",
    "import math\n",
    "import numpy as np\n",
    "import matplotlib.pyplot as plt\n",
    "import mpl_toolkits.axisartist as axisartist #导入坐标轴加工模块\n"
   ]
  },
  {
   "cell_type": "code",
   "execution_count": 57,
   "id": "bf1a2d23-a298-4ee8-8a8e-89921dbc3d3b",
   "metadata": {},
   "outputs": [
    {
     "data": {
      "text/plain": [
       "[<matplotlib.lines.Line2D at 0x15877faf0>]"
      ]
     },
     "execution_count": 57,
     "metadata": {},
     "output_type": "execute_result"
    },
    {
     "data": {
      "image/png": "[encoded data removed]",
      "text/plain": [
       "<Figure size 800x600 with 1 Axes>"
      ]
     },
     "metadata": {},
     "output_type": "display_data"
    }
   ],
   "source": [
    "fig=plt.figure(figsize=(8, 6)) #新建画布\n",
    "ax=axisartist.Subplot(fig,111) #使用axisartist.Subplot方法创建一个绘图区对象ax\n",
    "fig.add_axes(ax) #将绘图区对象添加到画布中\n",
    "\n",
    "#fig.title(\"$tanh\\ x = \\frac{e^x - e^{-x}}{e^x + e^{-x}}$\")\n",
    "ax.axis[:].set_visible(False) #隐藏原来的实线矩形\n",
    "\n",
    "ax.axis[\"x\"]=ax.new_floating_axis(0,0,axis_direction=\"bottom\") #添加x轴\n",
    "ax.axis[\"y\"]=ax.new_floating_axis(1,0,axis_direction=\"bottom\") #添加y轴\n",
    "ax.axis[\"x\"].set_axisline_style(\"->\",size=1.0) #给x坐标轴加箭头\n",
    "ax.axis[\"y\"].set_axisline_style(\"->\",size=1.0) #给y坐标轴加箭头\n",
    "\n",
    "ax.annotate(text='x' ,xy=(10, 0) ,xytext=(10.5, -0.07)) #标注x轴\n",
    "ax.annotate(text='y' ,xy=(0, 1.0) ,xytext=(-0.5, 1.0)) #标注y轴\n",
    "ax.set_xticks([-10, -5, 0, 5, 10]) #设置x轴刻度\n",
    "ax.set_yticks([-1, -0.5, 0.5, 1]) #设置y轴刻度\n",
    "\n",
    "plt.title(r\"$tanh\\ x = \\frac{e^x - e^{-x}}{e^x + e^{-x}}$\")\n",
    "plt.plot(x, tanhx, color='red')"
   ]
  },
  {
   "cell_type": "code",
   "execution_count": 37,
   "id": "9e46b2d8-ee77-46dd-be2a-189cccb65c79",
   "metadata": {},
   "outputs": [
    {
     "data": {
      "text/plain": [
       "\u001b[0;31mSignature:\u001b[0m\n",
       "\u001b[0max\u001b[0m\u001b[0;34m.\u001b[0m\u001b[0mannotate\u001b[0m\u001b[0;34m(\u001b[0m\u001b[0;34m\u001b[0m\n",
       "\u001b[0;34m\u001b[0m    \u001b[0mtext\u001b[0m\u001b[0;34m,\u001b[0m\u001b[0;34m\u001b[0m\n",
       "\u001b[0;34m\u001b[0m    \u001b[0mxy\u001b[0m\u001b[0;34m,\u001b[0m\u001b[0;34m\u001b[0m\n",
       "\u001b[0;34m\u001b[0m    \u001b[0mxytext\u001b[0m\u001b[0;34m=\u001b[0m\u001b[0;32mNone\u001b[0m\u001b[0;34m,\u001b[0m\u001b[0;34m\u001b[0m\n",
       "\u001b[0;34m\u001b[0m    \u001b[0mxycoords\u001b[0m\u001b[0;34m=\u001b[0m\u001b[0;34m'data'\u001b[0m\u001b[0;34m,\u001b[0m\u001b[0;34m\u001b[0m\n",
       "\u001b[0;34m\u001b[0m    \u001b[0mtextcoords\u001b[0m\u001b[0;34m=\u001b[0m\u001b[0;32mNone\u001b[0m\u001b[0;34m,\u001b[0m\u001b[0;34m\u001b[0m\n",
       "\u001b[0;34m\u001b[0m    \u001b[0marrowprops\u001b[0m\u001b[0;34m=\u001b[0m\u001b[0;32mNone\u001b[0m\u001b[0;34m,\u001b[0m\u001b[0;34m\u001b[0m\n",
       "\u001b[0;34m\u001b[0m    \u001b[0mannotation_clip\u001b[0m\u001b[0;34m=\u001b[0m\u001b[0;32mNone\u001b[0m\u001b[0;34m,\u001b[0m\u001b[0;34m\u001b[0m\n",
       "\u001b[0;34m\u001b[0m    \u001b[0;34m**\u001b[0m\u001b[0mkwargs\u001b[0m\u001b[0;34m,\u001b[0m\u001b[0;34m\u001b[0m\n",
       "\u001b[0;34m\u001b[0m\u001b[0;34m)\u001b[0m\u001b[0;34m\u001b[0m\u001b[0;34m\u001b[0m\u001b[0m\n",
       "\u001b[0;31mDocstring:\u001b[0m\n",
       "Annotate the point *xy* with text *text*.\n",
       "\n",
       "In the simplest form, the text is placed at *xy*.\n",
       "\n",
       "Optionally, the text can be displayed in another position *xytext*.\n",
       "An arrow pointing from the text to the annotated point *xy* can then\n",
       "be added by defining *arrowprops*.\n",
       "\n",
       "Parameters\n",
       "----------\n",
       "text : str\n",
       "    The text of the annotation.\n",
       "\n",
       "xy : (float, float)\n",
       "    The point *(x, y)* to annotate. The coordinate system is determined\n",
       "    by *xycoords*.\n",
       "\n",
       "xytext : (float, float), default: *xy*\n",
       "    The position *(x, y)* to place the text at. The coordinate system\n",
       "    is determined by *textcoords*.\n",
       "\n",
       "xycoords : str or `.Artist` or `.Transform` or callable or (float, float), default: 'data'\n",
       "\n",
       "    The coordinate system that *xy* is given in. The following types\n",
       "    of values are supported:\n",
       "\n",
       "    - One of the following strings:\n",
       "\n",
       "      ==================== ============================================\n",
       "      Value                Description\n",
       "      ==================== ============================================\n",
       "      'figure points'      Points from the lower left of the figure\n",
       "      'figure pixels'      Pixels from the lower left of the figure\n",
       "      'figure fraction'    Fraction of figure from lower left\n",
       "      'subfigure points'   Points from the lower left of the subfigure\n",
       "      'subfigure pixels'   Pixels from the lower left of the subfigure\n",
       "      'subfigure fraction' Fraction of subfigure from lower left\n",
       "      'axes points'        Points from lower left corner of axes\n",
       "      'axes pixels'        Pixels from lower left corner of axes\n",
       "      'axes fraction'      Fraction of axes from lower left\n",
       "      'data'               Use the coordinate system of the object\n",
       "                           being annotated (default)\n",
       "      'polar'              *(theta, r)* if not native 'data'\n",
       "                           coordinates\n",
       "      ==================== ============================================\n",
       "\n",
       "      Note that 'subfigure pixels' and 'figure pixels' are the same\n",
       "      for the parent figure, so users who want code that is usable in\n",
       "      a subfigure can use 'subfigure pixels'.\n",
       "\n",
       "    - An `.Artist`: *xy* is interpreted as a fraction of the artist's\n",
       "      `~matplotlib.transforms.Bbox`. E.g. *(0, 0)* would be the lower\n",
       "      left corner of the bounding box and *(0.5, 1)* would be the\n",
       "      center top of the bounding box.\n",
       "\n",
       "    - A `.Transform` to transform *xy* to screen coordinates.\n",
       "\n",
       "    - A function with one of the following signatures::\n",
       "\n",
       "        def transform(renderer) -> Bbox\n",
       "        def transform(renderer) -> Transform\n",
       "\n",
       "      where *renderer* is a `.RendererBase` subclass.\n",
       "\n",
       "      The result of the function is interpreted like the `.Artist` and\n",
       "      `.Transform` cases above.\n",
       "\n",
       "    - A tuple *(xcoords, ycoords)* specifying separate coordinate\n",
       "      systems for *x* and *y*. *xcoords* and *ycoords* must each be\n",
       "      of one of the above described types.\n",
       "\n",
       "    See :ref:`plotting-guide-annotation` for more details.\n",
       "\n",
       "textcoords : str or `.Artist` or `.Transform` or callable or (float, float), default: value of *xycoords*\n",
       "    The coordinate system that *xytext* is given in.\n",
       "\n",
       "    All *xycoords* values are valid as well as the following\n",
       "    strings:\n",
       "\n",
       "    =================   =========================================\n",
       "    Value               Description\n",
       "    =================   =========================================\n",
       "    'offset points'     Offset (in points) from the *xy* value\n",
       "    'offset pixels'     Offset (in pixels) from the *xy* value\n",
       "    =================   =========================================\n",
       "\n",
       "arrowprops : dict, optional\n",
       "    The properties used to draw a `.FancyArrowPatch` arrow between the\n",
       "    positions *xy* and *xytext*.  Defaults to None, i.e. no arrow is\n",
       "    drawn.\n",
       "\n",
       "    For historical reasons there are two different ways to specify\n",
       "    arrows, \"simple\" and \"fancy\":\n",
       "\n",
       "    **Simple arrow:**\n",
       "\n",
       "    If *arrowprops* does not contain the key 'arrowstyle' the\n",
       "    allowed keys are:\n",
       "\n",
       "    ==========   ======================================================\n",
       "    Key          Description\n",
       "    ==========   ======================================================\n",
       "    width        The width of the arrow in points\n",
       "    headwidth    The width of the base of the arrow head in points\n",
       "    headlength   The length of the arrow head in points\n",
       "    shrink       Fraction of total length to shrink from both ends\n",
       "    ?            Any key to :class:`matplotlib.patches.FancyArrowPatch`\n",
       "    ==========   ======================================================\n",
       "\n",
       "    The arrow is attached to the edge of the text box, the exact\n",
       "    position (corners or centers) depending on where it's pointing to.\n",
       "\n",
       "    **Fancy arrow:**\n",
       "\n",
       "    This is used if 'arrowstyle' is provided in the *arrowprops*.\n",
       "\n",
       "    Valid keys are the following `~matplotlib.patches.FancyArrowPatch`\n",
       "    parameters:\n",
       "\n",
       "    ===============  ==================================================\n",
       "    Key              Description\n",
       "    ===============  ==================================================\n",
       "    arrowstyle       the arrow style\n",
       "    connectionstyle  the connection style\n",
       "    relpos           see below; default is (0.5, 0.5)\n",
       "    patchA           default is bounding box of the text\n",
       "    patchB           default is None\n",
       "    shrinkA          default is 2 points\n",
       "    shrinkB          default is 2 points\n",
       "    mutation_scale   default is text size (in points)\n",
       "    mutation_aspect  default is 1.\n",
       "    ?                any key for :class:`matplotlib.patches.PathPatch`\n",
       "    ===============  ==================================================\n",
       "\n",
       "    The exact starting point position of the arrow is defined by\n",
       "    *relpos*. It's a tuple of relative coordinates of the text box,\n",
       "    where (0, 0) is the lower left corner and (1, 1) is the upper\n",
       "    right corner. Values <0 and >1 are supported and specify points\n",
       "    outside the text box. By default (0.5, 0.5) the starting point is\n",
       "    centered in the text box.\n",
       "\n",
       "annotation_clip : bool or None, default: None\n",
       "    Whether to clip (i.e. not draw) the annotation when the annotation\n",
       "    point *xy* is outside the axes area.\n",
       "\n",
       "    - If *True*, the annotation will be clipped when *xy* is outside\n",
       "      the axes.\n",
       "    - If *False*, the annotation will always be drawn.\n",
       "    - If *None*, the annotation will be clipped when *xy* is outside\n",
       "      the axes and *xycoords* is 'data'.\n",
       "\n",
       "**kwargs\n",
       "    Additional kwargs are passed to `~matplotlib.text.Text`.\n",
       "\n",
       "Returns\n",
       "-------\n",
       "`.Annotation`\n",
       "\n",
       "See Also\n",
       "--------\n",
       ":ref:`plotting-guide-annotation`\n",
       "\u001b[0;31mFile:\u001b[0m      /opt/homebrew/Caskroom/miniconda/base/lib/python3.9/site-packages/matplotlib/axes/_axes.py\n",
       "\u001b[0;31mType:\u001b[0m      method\n"
      ]
     },
     "metadata": {},
     "output_type": "display_data"
    }
   ],
   "source": [
    "ax.annotate?"
   ]
  },
  {
   "cell_type": "code",
   "execution_count": 9,
   "id": "14b8396a-507a-450e-a328-b8f9363fb7ec",
   "metadata": {},
   "outputs": [],
   "source": [
    "x = np.linspace(-10, 10, 1000).astype(float)\n",
    "tanhx = (np.exp(x) - np.exp(-x)) / (np.exp(x) + np.exp(-x))"
   ]
  },
  {
   "cell_type": "code",
   "execution_count": null,
   "id": "3350487b-c8a4-4634-b294-5e0c7a9ba013",
   "metadata": {},
   "outputs": [],
   "source": []
  },
  {
   "cell_type": "code",
   "execution_count": 20,
   "id": "ed0d2d76-9c3c-446c-913c-7dae00d540a0",
   "metadata": {},
   "outputs": [
    {
     "data": {
      "text/plain": [
       "[<matplotlib.lines.Line2D at 0x127c086a0>]"
      ]
     },
     "execution_count": 20,
     "metadata": {},
     "output_type": "execute_result"
    },
    {
     "data": {
      "image/png": "[encoded data removed]",
      "text/plain": [
       "<Figure size 640x480 with 1 Axes>"
      ]
     },
     "metadata": {},
     "output_type": "display_data"
    }
   ],
   "source": [
    "plt.plot(x, tanhx)"
   ]
  },
  {
   "cell_type": "code",
   "execution_count": null,
   "id": "b4a1091e-c09e-4477-a6eb-997c0e9c0ddf",
   "metadata": {},
   "outputs": [],
   "source": []
  }
 ],
 "metadata": {
  "kernelspec": {
   "display_name": "Python 3 (ipykernel)",
   "language": "python",
   "name": "python3"
  },
  "language_info": {
   "codemirror_mode": {
    "name": "ipython",
    "version": 3
   },
   "file_extension": ".py",
   "mimetype": "text/x-python",
   "name": "python",
   "nbconvert_exporter": "python",
   "pygments_lexer": "ipython3",
   "version": "3.9.14"
  }
 },
 "nbformat": 4,
 "nbformat_minor": 5
}
